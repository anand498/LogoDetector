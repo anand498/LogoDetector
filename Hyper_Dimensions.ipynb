{
  "nbformat": 4,
  "nbformat_minor": 0,
  "metadata": {
    "colab": {
      "name": "Hyper Dimensions.ipynb",
      "provenance": [],
      "collapsed_sections": []
    },
    "kernelspec": {
      "name": "python3",
      "display_name": "Python 3"
    },
    "accelerator": "GPU"
  },
  "cells": [
    {
      "cell_type": "code",
      "metadata": {
        "id": "gBPYtKzUraUO",
        "colab_type": "code",
        "colab": {}
      },
      "source": [
        "# import the necessary packages\n",
        "from tensorflow.keras.preprocessing.image import ImageDataGenerator\n",
        "from tensorflow.keras.applications import MobileNetV2\n",
        "from tensorflow.keras.layers import Dropout,Flatten,Dense,AveragePooling2D\n",
        "from tensorflow.keras.models import Model\n",
        "from tensorflow.keras.optimizers import Adam,SGD\n",
        "from tensorflow.keras.applications.mobilenet_v2 import preprocess_input\n",
        "from tensorflow.keras.preprocessing.image import img_to_array,load_img\n",
        "from tensorflow.keras.preprocessing.image import \n",
        "from tensorflow.keras.utils import to_categorical\n",
        "from sklearn.preprocessing import LabelBinarizer\n",
        "from sklearn.model_selection import train_test_split\n",
        "from sklearn.metrics import classification_report\n",
        "from imutils import paths\n",
        "import matplotlib.pyplot as plt\n",
        "import numpy as np\n",
        "import argparse\n",
        "import os,cv2\n",
        "import tensorflow as tf\n"
      ],
      "execution_count": 1,
      "outputs": []
    },
    {
      "cell_type": "markdown",
      "metadata": {
        "id": "ktopW1P-x0Th",
        "colab_type": "text"
      },
      "source": [
        "Downloading the Dataset."
      ]
    },
    {
      "cell_type": "code",
      "metadata": {
        "id": "2w1kfnoNuvdU",
        "colab_type": "code",
        "colab": {
          "base_uri": "https://localhost:8080/",
          "height": 54
        },
        "outputId": "2ec160a0-4760-4875-fcd9-f82fc8c16495"
      },
      "source": [
        "_URL = 'http://image.ntua.gr/iva/datasets/flickr_logos/flickr_logos_27_dataset.tar.gz'\n",
        "zip_dir = tf.keras.utils.get_file('/content/logo', origin=_URL, untar=True,extract=True)"
      ],
      "execution_count": 2,
      "outputs": [
        {
          "output_type": "stream",
          "text": [
            "Downloading data from http://image.ntua.gr/iva/datasets/flickr_logos/flickr_logos_27_dataset.tar.gz\n",
            "101834752/101827904 [==============================] - 7s 0us/step\n"
          ],
          "name": "stdout"
        }
      ]
    },
    {
      "cell_type": "code",
      "metadata": {
        "id": "DSUiys0P5xj-",
        "colab_type": "code",
        "colab": {}
      },
      "source": [
        "fname = '/content/flickr_logos_27_dataset/flickr_logos_27_dataset_images.tar.gz'\n",
        "\n",
        "if fname.endswith(\"tar.gz\"):\n",
        "    tar = tarfile.open(fname, \"r:gz\")\n",
        "    tar.extractall()\n",
        "    tar.close()"
      ],
      "execution_count": 4,
      "outputs": []
    },
    {
      "cell_type": "code",
      "metadata": {
        "id": "2T_6FRvr6ct4",
        "colab_type": "code",
        "colab": {}
      },
      "source": [
        "src_dir = \"flickr_logos_27_dataset_images\"\n",
        "dest = \"LOGOS\"\n",
        "if not os.path.exists(dest):\n",
        "    os.makedirs(dest)"
      ],
      "execution_count": 5,
      "outputs": []
    },
    {
      "cell_type": "code",
      "metadata": {
        "id": "PW6txK1lAdWm",
        "colab_type": "code",
        "colab": {}
      },
      "source": [
        "df = pd.read_csv(\"/content/flickr_logos_27_dataset/flickr_logos_27_dataset_training_set_annotation.txt\", sep='\\s+',header=None)\n",
        "df.head(5)"
      ],
      "execution_count": 7,
      "outputs": []
    },
    {
      "cell_type": "markdown",
      "metadata": {
        "id": "mNFHBs2Hx47o",
        "colab_type": "text"
      },
      "source": [
        "Taking the coordiinates of the logo in the annotation text file"
      ]
    },
    {
      "cell_type": "code",
      "metadata": {
        "id": "JrHTDiAsEDPK",
        "colab_type": "code",
        "colab": {}
      },
      "source": [
        "dtdir = '/content/flickr_logos_27_dataset_images/'\n",
        "size = df.iloc[:,3:]\n",
        "img = os.path.join(dtdir,im)\n",
        "size = size.values.tolist()\n",
        "size[0][0],size[0][1],size[0][2],size[0][3]"
      ],
      "execution_count": 9,
      "outputs": []
    },
    {
      "cell_type": "code",
      "metadata": {
        "id": "duF0JkQgzwSd",
        "colab_type": "code",
        "colab": {}
      },
      "source": [
        "Mapping the dataset with teh class label and the coordinates of the position of logo"
      ],
      "execution_count": null,
      "outputs": []
    },
    {
      "cell_type": "code",
      "metadata": {
        "id": "Efbi-70iLIOU",
        "colab_type": "code",
        "colab": {}
      },
      "source": [
        "X = df.iloc[:,0]\n",
        "Y = df.iloc[:,1]\n",
        "y = list(set(list(Y)))\n",
        "y.sort()\n",
        "for i in y:\n",
        "    os.makedirs(os.path.join(dest,i))\n",
        "for i in range(len(X)): \n",
        "    try:\n",
        "        label = os.path.join(dest,Y[i])\n",
        "        finalpath = os.path.join(label,X[i])\n",
        "        img  = os.path.join(dtdir,X[i])\n",
        "        image = cv2.imread(img)\n",
        "        image = image[size[i][1]:size[i][3],size[i][0]:size[i][2]]\n",
        "        image = cv2.resize(image,(224,224))\n",
        "        cv2.imwrite(finalpath,image)\n",
        "    except:\n",
        "        pass"
      ],
      "execution_count": 18,
      "outputs": []
    },
    {
      "cell_type": "code",
      "metadata": {
        "id": "9pCNXEF9yB7_",
        "colab_type": "code",
        "colab": {}
      },
      "source": [
        "Augmentation of the dataset due to less number of data points"
      ],
      "execution_count": null,
      "outputs": []
    },
    {
      "cell_type": "code",
      "metadata": {
        "id": "eIJH2pUfR6eV",
        "colab_type": "code",
        "colab": {}
      },
      "source": [
        "train = ImageDataGenerator(\n",
        "rescale = 1/255,horizontal_flip=True,\n",
        "vertical_flip=True,shear_range=0.2,zoom_range=0.2,featurewise_center=True, # Set input mean to 0 over the dataset, feature-wise\n",
        "featurewise_std_normalization=True, # Divide inputs by std of the dataset, feature-wise\n",
        "rotation_range=40, # Degree range for random rotations\n",
        "width_shift_range=0.2,height_shift_range=0.2,fill_mode='nearest',validation_split=0.1)"
      ],
      "execution_count": 29,
      "outputs": []
    },
    {
      "cell_type": "code",
      "metadata": {
        "id": "sl1PNhXBTQ2Y",
        "colab_type": "code",
        "colab": {
          "base_uri": "https://localhost:8080/",
          "height": 54
        },
        "outputId": "64deca17-d96c-43d0-f59d-20e1e8f733be"
      },
      "source": [
        "HEIGHT,WIDTH= (224,224)\n",
        "INIT_LR = 1e-3\n",
        "EPOCHS = 50 \n",
        "BS = 64\n",
        "trainset = train.flow_from_directory(dest,target_size = (WIDTH,HEIGHT),batch_size = BS,shuffle=False,seed=42,color_mode='rgb',class_mode='categorical')\n",
        "validset = train.flow_from_directory(dest,target_size = (WIDTH,HEIGHT),batch_size = BS,shuffle=False,seed=42,color_mode='rgb',class_mode='categorical',subset = 'validation')\n",
        "imagePaths = list(paths.list_images(dest))"
      ],
      "execution_count": 98,
      "outputs": [
        {
          "output_type": "stream",
          "text": [
            "Found 809 images belonging to 27 classes.\n",
            "Found 80 images belonging to 27 classes.\n"
          ],
          "name": "stdout"
        }
      ]
    },
    {
      "cell_type": "code",
      "metadata": {
        "id": "l1yhZ0I2T-Ed",
        "colab_type": "code",
        "colab": {
          "base_uri": "https://localhost:8080/",
          "height": 74
        },
        "outputId": "dcd75e32-907a-4353-899f-980804d13ece"
      },
      "source": [
        "\n",
        "mobilemodel = MobileNetV2(weights=\"imagenet\",include_top=False,input_tensor=Input(shape=(WIDTH, HEIGHT, 3)))\n",
        "model = mobilemodel.output\n",
        "model= AveragePooling2D(pool_size=(7, 7))(model)\n",
        "model=Flatten(name=\"flatten\")(model)\n",
        "model=Dense(128, activation=\"relu\")(model)\n",
        "model=Dropout(0.5)(model)\n",
        "model=Dense(trainset.num_classes, activation=\"softmax\")(model)\n",
        "model = Model(inputs=mobilemodel.input, outputs=model)\n",
        "for layer in mobilemodel.layers:\n",
        "\tlayer.trainable = False\n",
        "\n",
        "print(\"[INFO] compiling model...\")\n",
        "opt = SGD(lr=INIT_LR, momentum = 0.9)\n",
        "model.compile(loss=\"categorical_crossentropy\", optimizer=opt,\n",
        "\tmetrics=[\"accuracy\"])\n"
      ],
      "execution_count": 100,
      "outputs": [
        {
          "output_type": "stream",
          "text": [
            "WARNING:tensorflow:`input_shape` is undefined or non-square, or `rows` is not in [96, 128, 160, 192, 224]. Weights for input shape (224, 224) will be loaded as the default.\n",
            "[INFO] compiling model...\n"
          ],
          "name": "stdout"
        }
      ]
    },
    {
      "cell_type": "code",
      "metadata": {
        "id": "UwuSQMJZWGBM",
        "colab_type": "code",
        "colab": {
          "base_uri": "https://localhost:8080/",
          "height": 1000
        },
        "outputId": "445e3b2c-2a09-457c-9b2a-40cad1673f42"
      },
      "source": [
        "H = model.fit_generator(trainset,validation_data = validset,epochs=EPOCHS)"
      ],
      "execution_count": 81,
      "outputs": [
        {
          "output_type": "stream",
          "text": [
            "/usr/local/lib/python3.6/dist-packages/keras_preprocessing/image/image_data_generator.py:720: UserWarning: This ImageDataGenerator specifies `featurewise_center`, but it hasn't been fit on any training data. Fit it first by calling `.fit(numpy_data)`.\n",
            "  warnings.warn('This ImageDataGenerator specifies '\n",
            "/usr/local/lib/python3.6/dist-packages/keras_preprocessing/image/image_data_generator.py:728: UserWarning: This ImageDataGenerator specifies `featurewise_std_normalization`, but it hasn't been fit on any training data. Fit it first by calling `.fit(numpy_data)`.\n",
            "  warnings.warn('This ImageDataGenerator specifies '\n"
          ],
          "name": "stderr"
        },
        {
          "output_type": "stream",
          "text": [
            "Epoch 1/50\n",
            "13/13 [==============================] - 10s 754ms/step - loss: 4.0303 - accuracy: 0.0494 - val_loss: 3.2820 - val_accuracy: 0.1250\n",
            "Epoch 2/50\n",
            "13/13 [==============================] - 9s 677ms/step - loss: 3.5974 - accuracy: 0.0334 - val_loss: 2.9624 - val_accuracy: 0.1750\n",
            "Epoch 3/50\n",
            "13/13 [==============================] - 9s 661ms/step - loss: 3.2230 - accuracy: 0.0841 - val_loss: 2.8904 - val_accuracy: 0.2500\n",
            "Epoch 4/50\n",
            "13/13 [==============================] - 9s 662ms/step - loss: 2.9959 - accuracy: 0.1582 - val_loss: 2.7697 - val_accuracy: 0.3250\n",
            "Epoch 5/50\n",
            "13/13 [==============================] - 9s 662ms/step - loss: 2.8896 - accuracy: 0.1854 - val_loss: 2.5875 - val_accuracy: 0.3875\n",
            "Epoch 6/50\n",
            "13/13 [==============================] - 9s 669ms/step - loss: 2.8054 - accuracy: 0.2225 - val_loss: 2.4283 - val_accuracy: 0.4625\n",
            "Epoch 7/50\n",
            "13/13 [==============================] - 9s 677ms/step - loss: 2.6758 - accuracy: 0.2633 - val_loss: 2.3563 - val_accuracy: 0.4750\n",
            "Epoch 8/50\n",
            "13/13 [==============================] - 9s 660ms/step - loss: 2.5528 - accuracy: 0.2781 - val_loss: 2.2442 - val_accuracy: 0.5250\n",
            "Epoch 9/50\n",
            "13/13 [==============================] - 9s 661ms/step - loss: 2.4427 - accuracy: 0.3239 - val_loss: 2.0997 - val_accuracy: 0.5125\n",
            "Epoch 10/50\n",
            "13/13 [==============================] - 9s 689ms/step - loss: 2.3774 - accuracy: 0.3214 - val_loss: 1.8974 - val_accuracy: 0.6625\n",
            "Epoch 11/50\n",
            "13/13 [==============================] - 9s 668ms/step - loss: 2.2613 - accuracy: 0.3881 - val_loss: 1.7438 - val_accuracy: 0.7375\n",
            "Epoch 12/50\n",
            "13/13 [==============================] - 9s 663ms/step - loss: 2.1346 - accuracy: 0.4203 - val_loss: 1.6928 - val_accuracy: 0.7000\n",
            "Epoch 13/50\n",
            "13/13 [==============================] - 9s 659ms/step - loss: 2.0172 - accuracy: 0.4635 - val_loss: 1.5881 - val_accuracy: 0.7375\n",
            "Epoch 14/50\n",
            "13/13 [==============================] - 9s 658ms/step - loss: 1.9940 - accuracy: 0.4252 - val_loss: 1.5675 - val_accuracy: 0.6875\n",
            "Epoch 15/50\n",
            "13/13 [==============================] - 9s 661ms/step - loss: 1.7937 - accuracy: 0.5216 - val_loss: 1.4236 - val_accuracy: 0.7625\n",
            "Epoch 16/50\n",
            "13/13 [==============================] - 9s 661ms/step - loss: 1.7956 - accuracy: 0.5093 - val_loss: 1.2628 - val_accuracy: 0.8375\n",
            "Epoch 17/50\n",
            "13/13 [==============================] - 9s 660ms/step - loss: 1.7253 - accuracy: 0.5402 - val_loss: 1.3071 - val_accuracy: 0.7875\n",
            "Epoch 18/50\n",
            "13/13 [==============================] - 9s 662ms/step - loss: 1.6754 - accuracy: 0.5377 - val_loss: 1.1935 - val_accuracy: 0.8125\n",
            "Epoch 19/50\n",
            "13/13 [==============================] - 9s 667ms/step - loss: 1.6771 - accuracy: 0.5365 - val_loss: 1.0840 - val_accuracy: 0.8500\n",
            "Epoch 20/50\n",
            "13/13 [==============================] - 9s 661ms/step - loss: 1.5363 - accuracy: 0.5797 - val_loss: 1.0494 - val_accuracy: 0.8125\n",
            "Epoch 21/50\n",
            "13/13 [==============================] - 9s 659ms/step - loss: 1.4827 - accuracy: 0.6057 - val_loss: 0.9464 - val_accuracy: 0.8750\n",
            "Epoch 22/50\n",
            "13/13 [==============================] - 9s 680ms/step - loss: 1.4233 - accuracy: 0.6069 - val_loss: 0.9589 - val_accuracy: 0.8250\n",
            "Epoch 23/50\n",
            "13/13 [==============================] - 9s 657ms/step - loss: 1.3224 - accuracy: 0.6477 - val_loss: 0.9138 - val_accuracy: 0.8125\n",
            "Epoch 24/50\n",
            "13/13 [==============================] - 9s 657ms/step - loss: 1.3527 - accuracy: 0.6292 - val_loss: 0.8587 - val_accuracy: 0.8500\n",
            "Epoch 25/50\n",
            "13/13 [==============================] - 9s 679ms/step - loss: 1.2907 - accuracy: 0.6527 - val_loss: 0.8531 - val_accuracy: 0.8500\n",
            "Epoch 26/50\n",
            "13/13 [==============================] - 9s 664ms/step - loss: 1.2549 - accuracy: 0.6601 - val_loss: 0.7903 - val_accuracy: 0.8250\n",
            "Epoch 27/50\n",
            "13/13 [==============================] - 9s 661ms/step - loss: 1.2963 - accuracy: 0.6440 - val_loss: 0.7292 - val_accuracy: 0.8500\n",
            "Epoch 28/50\n",
            "13/13 [==============================] - 9s 666ms/step - loss: 1.2224 - accuracy: 0.6663 - val_loss: 0.7284 - val_accuracy: 0.8625\n",
            "Epoch 29/50\n",
            "13/13 [==============================] - 9s 658ms/step - loss: 1.1695 - accuracy: 0.6712 - val_loss: 0.6154 - val_accuracy: 0.9000\n",
            "Epoch 30/50\n",
            "13/13 [==============================] - 9s 671ms/step - loss: 1.1346 - accuracy: 0.6724 - val_loss: 0.6928 - val_accuracy: 0.8875\n",
            "Epoch 31/50\n",
            "13/13 [==============================] - 9s 675ms/step - loss: 1.1351 - accuracy: 0.6947 - val_loss: 0.6207 - val_accuracy: 0.9375\n",
            "Epoch 32/50\n",
            "13/13 [==============================] - 9s 660ms/step - loss: 1.0830 - accuracy: 0.7145 - val_loss: 0.5999 - val_accuracy: 0.9000\n",
            "Epoch 33/50\n",
            "13/13 [==============================] - 9s 658ms/step - loss: 1.0610 - accuracy: 0.7194 - val_loss: 0.5850 - val_accuracy: 0.9125\n",
            "Epoch 34/50\n",
            "13/13 [==============================] - 9s 660ms/step - loss: 1.0476 - accuracy: 0.7132 - val_loss: 0.5924 - val_accuracy: 0.8875\n",
            "Epoch 35/50\n",
            "13/13 [==============================] - 9s 663ms/step - loss: 1.0323 - accuracy: 0.7070 - val_loss: 0.5632 - val_accuracy: 0.9375\n",
            "Epoch 36/50\n",
            "13/13 [==============================] - 9s 666ms/step - loss: 1.0246 - accuracy: 0.7330 - val_loss: 0.5243 - val_accuracy: 0.8875\n",
            "Epoch 37/50\n",
            "13/13 [==============================] - 9s 663ms/step - loss: 0.9764 - accuracy: 0.7466 - val_loss: 0.5904 - val_accuracy: 0.9000\n",
            "Epoch 38/50\n",
            "13/13 [==============================] - 9s 681ms/step - loss: 0.9933 - accuracy: 0.7305 - val_loss: 0.5516 - val_accuracy: 0.9250\n",
            "Epoch 39/50\n",
            "13/13 [==============================] - 9s 661ms/step - loss: 0.9300 - accuracy: 0.7441 - val_loss: 0.5566 - val_accuracy: 0.8750\n",
            "Epoch 40/50\n",
            "13/13 [==============================] - 9s 661ms/step - loss: 0.9206 - accuracy: 0.7503 - val_loss: 0.5345 - val_accuracy: 0.8875\n",
            "Epoch 41/50\n",
            "13/13 [==============================] - 9s 676ms/step - loss: 0.9471 - accuracy: 0.7379 - val_loss: 0.4261 - val_accuracy: 0.9250\n",
            "Epoch 42/50\n",
            "13/13 [==============================] - 9s 661ms/step - loss: 0.9173 - accuracy: 0.7528 - val_loss: 0.4685 - val_accuracy: 0.9250\n",
            "Epoch 43/50\n",
            "13/13 [==============================] - 9s 660ms/step - loss: 0.8673 - accuracy: 0.7713 - val_loss: 0.4620 - val_accuracy: 0.9250\n",
            "Epoch 44/50\n",
            "13/13 [==============================] - 9s 659ms/step - loss: 0.8730 - accuracy: 0.7553 - val_loss: 0.4060 - val_accuracy: 0.9375\n",
            "Epoch 45/50\n",
            "13/13 [==============================] - 9s 667ms/step - loss: 0.8176 - accuracy: 0.7787 - val_loss: 0.4002 - val_accuracy: 0.9500\n",
            "Epoch 46/50\n",
            "13/13 [==============================] - 9s 660ms/step - loss: 0.8612 - accuracy: 0.7639 - val_loss: 0.3974 - val_accuracy: 0.9500\n",
            "Epoch 47/50\n",
            "13/13 [==============================] - 9s 660ms/step - loss: 0.8395 - accuracy: 0.7651 - val_loss: 0.3706 - val_accuracy: 0.9250\n",
            "Epoch 48/50\n",
            "13/13 [==============================] - 9s 658ms/step - loss: 0.7906 - accuracy: 0.7998 - val_loss: 0.3811 - val_accuracy: 0.9250\n",
            "Epoch 49/50\n",
            "13/13 [==============================] - 9s 678ms/step - loss: 0.8475 - accuracy: 0.7726 - val_loss: 0.3956 - val_accuracy: 0.9250\n",
            "Epoch 50/50\n",
            "13/13 [==============================] - 9s 659ms/step - loss: 0.7820 - accuracy: 0.8022 - val_loss: 0.3989 - val_accuracy: 0.9500\n"
          ],
          "name": "stdout"
        }
      ]
    },
    {
      "cell_type": "code",
      "metadata": {
        "id": "6eweq8YjnpF8",
        "colab_type": "code",
        "colab": {
          "base_uri": "https://localhost:8080/",
          "height": 299
        },
        "outputId": "478a4834-f78b-4a67-bbb0-3efa95f95a9d"
      },
      "source": [
        "# plot the training loss and accuracy\n",
        "N = EPOCHS\n",
        "plt.style.use(\"ggplot\")\n",
        "plt.figure()\n",
        "plt.plot(np.arange(0, N), H.history[\"loss\"], label=\"train_loss\")\n",
        "plt.plot(np.arange(0, N), H.history[\"val_loss\"], label=\"val_loss\")\n",
        "plt.title(\"Training Loss and Accuracy\")\n",
        "plt.xlabel(\"Epoch #\")\n",
        "plt.ylabel(\"Loss/Accuracy\")\n",
        "plt.legend(loc=\"top right\")\n",
        "plt.show()"
      ],
      "execution_count": 82,
      "outputs": [
        {
          "output_type": "display_data",
          "data": {
            "image/png": "[encoded data removed]",
            "text/plain": [
              "<Figure size 432x288 with 1 Axes>"
            ]
          },
          "metadata": {
            "tags": []
          }
        }
      ]
    },
    {
      "cell_type": "code",
      "metadata": {
        "id": "Z6bZTs1m5ykq",
        "colab_type": "code",
        "colab": {
          "base_uri": "https://localhost:8080/",
          "height": 299
        },
        "outputId": "10184364-7641-42dc-8b60-d6f7184cfe94"
      },
      "source": [
        "N = EPOCHS\n",
        "plt.style.use(\"ggplot\")\n",
        "plt.figure()\n",
        "plt.plot(np.arange(0, N), H.history[\"accuracy\"], label=\"train_acc\")\n",
        "plt.plot(np.arange(0, N), H.history[\"val_accuracy\"], label=\"val_acc\")\n",
        "plt.title(\" Accuracy\")\n",
        "plt.xlabel(\"Epoch #\")\n",
        "plt.ylabel(\"Accuracy\")\n",
        "plt.legend(loc=\"lower right\")\n",
        "plt.show()"
      ],
      "execution_count": 85,
      "outputs": [
        {
          "output_type": "display_data",
          "data": {
            "image/png": "[encoded data removed]",
            "text/plain": [
              "<Figure size 432x288 with 1 Axes>"
            ]
          },
          "metadata": {
            "tags": []
          }
        }
      ]
    },
    {
      "cell_type": "code",
      "metadata": {
        "id": "XN0gOD9RxffC",
        "colab_type": "code",
        "colab": {
          "base_uri": "https://localhost:8080/",
          "height": 753
        },
        "outputId": "d1371fcc-2440-4872-8c36-6df8f8739b7c"
      },
      "source": [
        "\n",
        "print(\"[INFO] evaluating after fine-tuning network...\")\n",
        "validset.reset()\n",
        "predIdxs = model.predict(x=validset)\n",
        "predIdxs = np.argmax(predIdxs, axis=1)\n",
        "print(classification_report(validset.classes, predIdxs,\n",
        "\ttarget_names=validset.class_indices.keys()))\n"
      ],
      "execution_count": 87,
      "outputs": [
        {
          "output_type": "stream",
          "text": [
            "[INFO] evaluating after fine-tuning network...\n"
          ],
          "name": "stdout"
        },
        {
          "output_type": "stream",
          "text": [
            "/usr/local/lib/python3.6/dist-packages/keras_preprocessing/image/image_data_generator.py:720: UserWarning: This ImageDataGenerator specifies `featurewise_center`, but it hasn't been fit on any training data. Fit it first by calling `.fit(numpy_data)`.\n",
            "  warnings.warn('This ImageDataGenerator specifies '\n",
            "/usr/local/lib/python3.6/dist-packages/keras_preprocessing/image/image_data_generator.py:728: UserWarning: This ImageDataGenerator specifies `featurewise_std_normalization`, but it hasn't been fit on any training data. Fit it first by calling `.fit(numpy_data)`.\n",
            "  warnings.warn('This ImageDataGenerator specifies '\n"
          ],
          "name": "stderr"
        },
        {
          "output_type": "stream",
          "text": [
            "              precision    recall  f1-score   support\n",
            "\n",
            "      Adidas       1.00      1.00      1.00         3\n",
            "       Apple       1.00      1.00      1.00         3\n",
            "         BMW       1.00      1.00      1.00         3\n",
            "     Citroen       1.00      1.00      1.00         3\n",
            "    Cocacola       1.00      1.00      1.00         3\n",
            "         DHL       1.00      1.00      1.00         3\n",
            "       Fedex       1.00      1.00      1.00         3\n",
            "     Ferrari       1.00      1.00      1.00         3\n",
            "        Ford       1.00      0.33      0.50         3\n",
            "      Google       1.00      1.00      1.00         3\n",
            "          HP       1.00      1.00      1.00         3\n",
            "    Heineken       1.00      0.67      0.80         3\n",
            "       Intel       1.00      1.00      1.00         3\n",
            "   McDonalds       1.00      1.00      1.00         3\n",
            "        Mini       1.00      1.00      1.00         3\n",
            "         Nbc       1.00      1.00      1.00         3\n",
            "        Nike       1.00      1.00      1.00         3\n",
            "       Pepsi       1.00      1.00      1.00         3\n",
            "     Porsche       1.00      1.00      1.00         3\n",
            "        Puma       1.00      1.00      1.00         3\n",
            "     RedBull       1.00      1.00      1.00         2\n",
            "      Sprite       0.60      1.00      0.75         3\n",
            "   Starbucks       1.00      1.00      1.00         3\n",
            "      Texaco       1.00      1.00      1.00         3\n",
            "      Unicef       1.00      1.00      1.00         3\n",
            "    Vodafone       1.00      1.00      1.00         3\n",
            "       Yahoo       0.75      1.00      0.86         3\n",
            "\n",
            "    accuracy                           0.96        80\n",
            "   macro avg       0.98      0.96      0.96        80\n",
            "weighted avg       0.98      0.96      0.96        80\n",
            "\n"
          ],
          "name": "stdout"
        }
      ]
    },
    {
      "cell_type": "code",
      "metadata": {
        "id": "1Px_1pxT9UKo",
        "colab_type": "code",
        "colab": {}
      },
      "source": [
        "model.save('final.h5', save_format=\"h5\")"
      ],
      "execution_count": 90,
      "outputs": []
    },
    {
      "cell_type": "code",
      "metadata": {
        "id": "zg2YlexbtPNt",
        "colab_type": "code",
        "colab": {}
      },
      "source": [
        ""
      ],
      "execution_count": null,
      "outputs": []
    }
  ]
}